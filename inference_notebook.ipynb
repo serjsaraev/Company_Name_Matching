{
 "cells": [
  {
   "cell_type": "code",
   "execution_count": 1,
   "id": "773c55fa",
   "metadata": {},
   "outputs": [
    {
     "name": "stderr",
     "output_type": "stream",
     "text": [
      "/mnt/disk2/ndubrovnyi/words_similarity/.venv/lib/python3.8/site-packages/tqdm/auto.py:22: TqdmWarning: IProgress not found. Please update jupyter and ipywidgets. See https://ipywidgets.readthedocs.io/en/stable/user_install.html\n",
      "  from .autonotebook import tqdm as notebook_tqdm\n",
      "3878it [00:00, 3178099.04it/s]"
     ]
    },
    {
     "name": "stdout",
     "output_type": "stream",
     "text": [
      "Train size: 14342\n",
      "Val size: 3878\n"
     ]
    },
    {
     "name": "stderr",
     "output_type": "stream",
     "text": [
      "\n"
     ]
    }
   ],
   "source": [
    "from transformers import BertTokenizer, BertForSequenceClassification, BertModel, AutoTokenizer, AutoModel\n",
    "from tqdm import tqdm\n",
    "\n",
    "from dataset import NamesDataset\n",
    "\n",
    "tokenizer = AutoTokenizer.from_pretrained('bert-base-uncased')\n",
    "\n",
    "train_dict_path = 'train_dict.json'\n",
    "val_dict_path = 'val_dict.json'\n",
    "\n",
    "trainset = NamesDataset(train_dict_path, tokenizer=tokenizer, max_length=32)\n",
    "valset = NamesDataset(val_dict_path, tokenizer=tokenizer, max_length=32)\n",
    "\n",
    "\n",
    "trainset_labels = set(trainset.labels)\n",
    "other_class_idx = 'other'\n",
    "for idx, label in tqdm(enumerate(valset.labels)):\n",
    "    if label not in trainset_labels:\n",
    "        valset.labels[idx] = other_class_idx\n",
    "valset.labels2target = trainset.labels2target\n",
    "    \n",
    "\n",
    "print('Train size:', len(trainset))\n",
    "print('Val size:', len(valset))"
   ]
  },
  {
   "cell_type": "code",
   "execution_count": 3,
   "id": "3505160b",
   "metadata": {},
   "outputs": [
    {
     "name": "stderr",
     "output_type": "stream",
     "text": [
      "100%|█████████████████████████████████████████| 225/225 [00:09<00:00, 23.49it/s]\n"
     ]
    }
   ],
   "source": [
    "import torch\n",
    "\n",
    "from model import NamesRecognition, ArcFace, AdaCos\n",
    "from utils import get_faiss_index\n",
    "from torch.utils.data import DataLoader\n",
    "\n",
    "\n",
    "device = 'cuda:4'\n",
    "\n",
    "margin = 0.5\n",
    "scale = 15\n",
    "num_classes = len(set(trainset.labels))\n",
    "feature_extractor_name = 'bert-base-uncased'\n",
    "embedding_size = 512\n",
    "\n",
    "other_label = trainset.labels2target['other']\n",
    "\n",
    "num_epochs = 30\n",
    "\n",
    "train_loader = DataLoader(trainset, batch_size=64, shuffle=False)\n",
    "val_loader = DataLoader(valset, batch_size=64, shuffle=False)\n",
    "\n",
    "model = torch.load('SaveModels/BertArcFace_v4_23.pth', map_location=device)\n",
    "\n",
    "model.to(device)\n",
    "\n",
    "faiss_index = get_faiss_index(model, train_loader, device, embedding_size)"
   ]
  },
  {
   "cell_type": "code",
   "execution_count": 20,
   "id": "3044ce07",
   "metadata": {},
   "outputs": [
    {
     "name": "stdout",
     "output_type": "stream",
     "text": [
      "Target Name: Dongguan Sanxie Polymer Products Co., Ltd.\n"
     ]
    },
    {
     "name": "stderr",
     "output_type": "stream",
     "text": [
      "100%|█████████████████████████████████████████████| 1/1 [00:00<00:00, 34.54it/s]"
     ]
    },
    {
     "name": "stdout",
     "output_type": "stream",
     "text": [
      "Similarity names:\n",
      "Dongguan Lijin Plastic Products Co., Ltd.: Conf=0.6700000166893005\n",
      "Dongguan Jinggan Plastic Products Co., Ltd.: Conf=0.6399999856948853\n",
      "Dongguan Deyuan Plastic Production Co., Ltd.: Conf=0.5299999713897705\n",
      "Dongguan Yi Fa Plastic Products Co., Ltd.: Conf=0.5199999809265137\n",
      "Dongguan Yu Po Plastic Products Co., Ltd.: Conf=0.5099999904632568\n"
     ]
    },
    {
     "name": "stderr",
     "output_type": "stream",
     "text": [
      "\n"
     ]
    }
   ],
   "source": [
    "from utils import get_similarity_names\n",
    "import random\n",
    "\n",
    "name = random.choice(valset.names)\n",
    "\n",
    "sim_names_cnt = 5\n",
    "thresh = 0.5\n",
    "\n",
    "print('Target Name:', name)\n",
    "result = get_similarity_names(name, model=model, index=faiss_index, sim_names_cnt=sim_names_cnt, tokenizer=tokenizer,\n",
    "                           device=device, emb_size=embedding_size, thresh=thresh)\n",
    "\n",
    "if len(result) > 0:\n",
    "    print('Similarity names:')\n",
    "    for res in result:\n",
    "        print(f'{trainset.get_name(res[0])}: Conf={round(res[1], 2)}')\n",
    "    \n",
    "else:\n",
    "    print('No similarity names')"
   ]
  },
  {
   "cell_type": "code",
   "execution_count": null,
   "id": "b2eda1e0",
   "metadata": {},
   "outputs": [],
   "source": []
  }
 ],
 "metadata": {
  "kernelspec": {
   "display_name": "Python 3 (ipykernel)",
   "language": "python",
   "name": "python3"
  },
  "language_info": {
   "codemirror_mode": {
    "name": "ipython",
    "version": 3
   },
   "file_extension": ".py",
   "mimetype": "text/x-python",
   "name": "python",
   "nbconvert_exporter": "python",
   "pygments_lexer": "ipython3",
   "version": "3.8.10"
  }
 },
 "nbformat": 4,
 "nbformat_minor": 5
}
